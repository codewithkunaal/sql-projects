{
 "cells": [
  {
   "cell_type": "code",
   "execution_count": 1,
   "id": "cd23b958",
   "metadata": {},
   "outputs": [],
   "source": [
    "import mysql.connector as conn"
   ]
  },
  {
   "cell_type": "code",
   "execution_count": 2,
   "id": "b3cbef06",
   "metadata": {},
   "outputs": [],
   "source": [
    "conn = conn.connect(host=\"127.0.0.1\",\n",
    "                    user =\"root\",\n",
    "                    password=\"pas\",\n",
    "                    database = \"entries\"\n",
    ")"
   ]
  },
  {
   "cell_type": "code",
   "execution_count": 3,
   "id": "699b0d36",
   "metadata": {},
   "outputs": [],
   "source": [
    "cursor = conn.cursor(buffered=True)"
   ]
  },
  {
   "cell_type": "code",
   "execution_count": null,
   "id": "3ac0ea19",
   "metadata": {},
   "outputs": [],
   "source": [
    "import pandas as pd\n",
    "pd.read_sql(\"select * from entries.dictionary\",conn)"
   ]
  },
  {
   "cell_type": "markdown",
   "id": "c69e0647",
   "metadata": {},
   "source": [
    "this database contains english dictionary. taken [from this website ](https://www.bragitoff.com/2016/03/english-dictionary-in-csv-format/) in csv format then converted into sql text file this dictionary contains 176023 words along with its type and defination lets do some stuff with this "
   ]
  },
  {
   "cell_type": "markdown",
   "id": "835fc1d4",
   "metadata": {},
   "source": [
    "##### how many words are there that starts with a or b?"
   ]
  },
  {
   "cell_type": "code",
   "execution_count": null,
   "id": "84bf81b6",
   "metadata": {},
   "outputs": [],
   "source": [
    "# cursor.execute(\"select count(*) from dictionary where word regexp ('^a')\")\n",
    "pd.read_sql(\"select count(*) from entries.dictionary where word regexp ('^a')\",conn)"
   ]
  },
  {
   "cell_type": "code",
   "execution_count": null,
   "id": "55c625f1",
   "metadata": {},
   "outputs": [],
   "source": [
    "pd.read_sql(\"select count(*) from dictionary where word regexp ('^b')\",conn)"
   ]
  },
  {
   "cell_type": "markdown",
   "id": "c1d1f200",
   "metadata": {
    "scrolled": true
   },
   "source": [
    "### how many words are one letter long ?\n",
    "for a and k"
   ]
  },
  {
   "cell_type": "code",
   "execution_count": null,
   "id": "64792ac3",
   "metadata": {},
   "outputs": [],
   "source": [
    "pd.read_sql(\"select count(*) from dictionary  where word like 'a'\",conn)\n"
   ]
  },
  {
   "cell_type": "code",
   "execution_count": null,
   "id": "d1a3d281",
   "metadata": {},
   "outputs": [],
   "source": [
    "pd.read_sql(\"select count(*) from dictionary  where word like 'k'\",conn)\n"
   ]
  },
  {
   "cell_type": "markdown",
   "id": "e12260d3",
   "metadata": {},
   "source": [
    "### top 10 words that starts with x"
   ]
  },
  {
   "cell_type": "code",
   "execution_count": null,
   "id": "9e86d005",
   "metadata": {},
   "outputs": [],
   "source": [
    "pd.read_sql(\"select * from dictionary where word like 'x%' limit 10  \",conn)\n"
   ]
  },
  {
   "cell_type": "markdown",
   "id": "6c6caed9",
   "metadata": {},
   "source": [
    "### word with maximum letters?\n"
   ]
  },
  {
   "cell_type": "code",
   "execution_count": null,
   "id": "ad3172e0",
   "metadata": {},
   "outputs": [],
   "source": [
    "pd.read_sql(\"select MAX(char_length(word)) from dictionary \",conn)\n"
   ]
  },
  {
   "cell_type": "code",
   "execution_count": null,
   "id": "d6bb90bb",
   "metadata": {},
   "outputs": [],
   "source": [
    "pd.read_sql(\"select max(length(word))from dictionary \",conn)\n"
   ]
  },
  {
   "cell_type": "markdown",
   "id": "11b2b14a",
   "metadata": {},
   "source": [
    "#### word that have exactly 3 letters in them"
   ]
  },
  {
   "cell_type": "code",
   "execution_count": null,
   "id": "a0952469",
   "metadata": {},
   "outputs": [],
   "source": [
    "pd.read_sql(\"select word from dictionary where length(word)=3 order by word desc limit 10\",conn)"
   ]
  },
  {
   "cell_type": "code",
   "execution_count": null,
   "id": "0bd12c1c",
   "metadata": {},
   "outputs": [],
   "source": [
    "pd.read_sql(\"select word from dictionary where (select max(length(word))from dictionary )\",conn)"
   ]
  },
  {
   "cell_type": "code",
   "execution_count": null,
   "id": "2926bc9b",
   "metadata": {},
   "outputs": [],
   "source": [
    "# actually there is 24 blank spaces in the output field and its not actually longest word lets remove the spaces "
   ]
  },
  {
   "cell_type": "code",
   "execution_count": null,
   "id": "c5819a8c",
   "metadata": {},
   "outputs": [],
   "source": [
    "pd.read_sql(\"select word,max(length(rtrim(word)))from dictionary \",conn)\n"
   ]
  },
  {
   "cell_type": "code",
   "execution_count": null,
   "id": "4e4e994f",
   "metadata": {},
   "outputs": [],
   "source": [
    "pd.read_sql(\"select max(length(ltrim(word)))from dictionary \",conn)\n"
   ]
  },
  {
   "cell_type": "markdown",
   "id": "299da61c",
   "metadata": {},
   "source": [
    "### what  word occurs after word kayak?\n"
   ]
  },
  {
   "cell_type": "code",
   "execution_count": null,
   "id": "4ac21221",
   "metadata": {},
   "outputs": [],
   "source": [
    "pd.read_sql(\"select word from dictionary where word like 'kayak%' limit 1\",conn)\n"
   ]
  },
  {
   "cell_type": "markdown",
   "id": "2148ec1d",
   "metadata": {},
   "source": [
    "### word with combination of ab-a/c?\n"
   ]
  },
  {
   "cell_type": "code",
   "execution_count": null,
   "id": "64852d1f",
   "metadata": {},
   "outputs": [],
   "source": [
    "pd.read_sql(\"select word from dictionary where word regexp 'ab[a|b|c|d]' order by word limit 10\",conn)\n"
   ]
  },
  {
   "cell_type": "code",
   "execution_count": null,
   "id": "1623337c",
   "metadata": {},
   "outputs": [],
   "source": [
    "### word starts with aba or abn?"
   ]
  },
  {
   "cell_type": "code",
   "execution_count": null,
   "id": "64930c44",
   "metadata": {},
   "outputs": [],
   "source": [
    "pd.read_sql(\"select word from dictionary where word regexp '^ab[an]' order by word desc limit 10\",conn)\n"
   ]
  },
  {
   "cell_type": "markdown",
   "id": "35104281",
   "metadata": {},
   "source": [
    "### words that are palindrome?\n"
   ]
  },
  {
   "cell_type": "code",
   "execution_count": null,
   "id": "733cf79c",
   "metadata": {},
   "outputs": [],
   "source": [
    "pd.read_sql(\"SELECT rtrim(word) FROM dictionary WHERE word =  REVERSE(word) order by  length(word) desc limit 11\",conn)"
   ]
  },
  {
   "cell_type": "code",
   "execution_count": null,
   "id": "43624707",
   "metadata": {},
   "outputs": [],
   "source": [
    "pd.read_sql(\"SELECT COUNT(word) FROM dictionary WHERE word =  REVERSE(word)\",conn)"
   ]
  },
  {
   "cell_type": "code",
   "execution_count": null,
   "id": "2d784a46",
   "metadata": {},
   "outputs": [],
   "source": [
    "### creating updated copy of dictionary\n",
    "\n",
    "# pd.read_sql(\"create table clean_dict select * from dictionary\",conn)"
   ]
  },
  {
   "cell_type": "markdown",
   "id": "84523bd0",
   "metadata": {},
   "source": [
    "### checking if the dictionary have duplicate columns \n",
    " "
   ]
  },
  {
   "cell_type": "code",
   "execution_count": null,
   "id": "50c2d24e",
   "metadata": {},
   "outputs": [],
   "source": [
    "pd.read_sql(\"SELECT word, COUNT(*) AS CNT FROM dictionary GROUP BY word HAVING COUNT(*) > 1;\",conn)"
   ]
  },
  {
   "cell_type": "markdown",
   "id": "dab108b5",
   "metadata": {},
   "source": [
    "### deleting the duplicate data "
   ]
  },
  {
   "cell_type": "markdown",
   "id": "84948130",
   "metadata": {},
   "source": [
    "original sql database do not have any primary key so imma add a new primary key first then delete the data "
   ]
  },
  {
   "cell_type": "code",
   "execution_count": null,
   "id": "3ca26d99",
   "metadata": {},
   "outputs": [],
   "source": [
    "pd.read_sql(\"ALTER TABLE dictionary ADD id int NOT NULL AUTO_INCREMENT primary key\",conn)\n",
    "\n",
    "# pd.read_sql(\"DELETE FROM dictionary WHERE ID NOT IN (SELECT MAX(word) AS Max FROM dictionary GROUP BY word\");"
   ]
  },
  {
   "cell_type": "code",
   "execution_count": null,
   "id": "b710715d",
   "metadata": {},
   "outputs": [],
   "source": [
    "pd.read_sql(\"select * from dictionary limit 10\",conn)"
   ]
  },
  {
   "cell_type": "markdown",
   "id": "541a8902",
   "metadata": {},
   "source": [
    "#### i will delete all the values that occurs multiple times by joining table with itself and then checking if they have same id or not"
   ]
  },
  {
   "cell_type": "code",
   "execution_count": null,
   "id": "4f53e8d9",
   "metadata": {},
   "outputs": [],
   "source": [
    "pd.read_sql(\"delete d from dictionary d,dictionary c where d.id > c.id and d.word = c.word\",conn)"
   ]
  },
  {
   "cell_type": "code",
   "execution_count": null,
   "id": "6c4e7f57",
   "metadata": {},
   "outputs": [],
   "source": []
  }
 ],
 "metadata": {
  "kernelspec": {
   "display_name": "Python 3 (ipykernel)",
   "language": "python",
   "name": "python3"
  },
  "language_info": {
   "codemirror_mode": {
    "name": "ipython",
    "version": 3
   },
   "file_extension": ".py",
   "mimetype": "text/x-python",
   "name": "python",
   "nbconvert_exporter": "python",
   "pygments_lexer": "ipython3",
   "version": "3.9.6"
  }
 },
 "nbformat": 4,
 "nbformat_minor": 5
}
